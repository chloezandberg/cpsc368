{
 "cells": [
  {
   "cell_type": "markdown",
   "id": "03b1e2fe-f906-4689-93a7-4064f356d1e7",
   "metadata": {},
   "source": [
    "# CPSC 368 - Databases in Data Science\n",
    "### Mental Health Quality Discrepancies Between Men and Women in Tech\n",
    "By Chloe Zandberg and Olivia Lam"
   ]
  },
  {
   "cell_type": "markdown",
   "id": "5ed2c541-1f67-4f79-86b6-4238cd4ba14f",
   "metadata": {},
   "source": [
    "### How do different genders in the tech industry describe whether they would disclose their mental health to a potential employer?"
   ]
  },
  {
   "cell_type": "markdown",
   "id": "954f3915-804f-4ff1-b3e3-89503b31388c",
   "metadata": {},
   "source": [
    "This question seeks to uncover any disproportionate comfort—or lack thereof—in mental health complication disclosure between employees of female and male gender identifications in the technology industry. Regardless of whether a discrepancy is found, this question aims to prod at a possible stigma around mental health, particularly in the technology industry, where aptitude and technical skills are highly valued and mental health complications can be seen as a barrier to these qualities. "
   ]
  },
  {
   "cell_type": "code",
   "execution_count": 23,
   "id": "0f2b6ea5-1dfe-4d73-ac02-016f6df35bf6",
   "metadata": {},
   "outputs": [],
   "source": [
    "import sqlite3\n",
    "import pandas as pd\n",
    "import altair as alt"
   ]
  },
  {
   "cell_type": "code",
   "execution_count": 24,
   "id": "32cce0ef-cd4f-4700-a78b-72b5abb1a64d",
   "metadata": {},
   "outputs": [
    {
     "name": "stdout",
     "output_type": "stream",
     "text": [
      "CSV file has been saved to your local directory.\n"
     ]
    }
   ],
   "source": [
    "# First we must connect our database to our query to pull our desired data\n",
    "connection = sqlite3.connect('../database/my_database.db')\n",
    "\n",
    "q2_query = \"\"\"\n",
    "SELECT u.gender, mh_in_interview, COUNT(*) as count_responses\n",
    "FROM Users u\n",
    "JOIN Mental_health m ON u.userID = m.userID\n",
    "GROUP BY u.gender, m.mh_in_interview;\n",
    "\"\"\"\n",
    "\n",
    "# Store it as a dataframe so we can save as a csv\n",
    "oli_df = pd.read_sql_query(q2_query, connection)\n",
    "oli_df.to_csv('chloe-imp.csv', index=False)\n",
    "\n",
    "# Close the connection\n",
    "connection.close()\n",
    "\n",
    "print(\"CSV file has been saved to your local directory.\")"
   ]
  },
  {
   "cell_type": "code",
   "execution_count": 35,
   "id": "48a7dded-0ebd-4561-9c4f-53c8d3965066",
   "metadata": {},
   "outputs": [
    {
     "data": {
      "text/html": [
       "<div>\n",
       "<style scoped>\n",
       "    .dataframe tbody tr th:only-of-type {\n",
       "        vertical-align: middle;\n",
       "    }\n",
       "\n",
       "    .dataframe tbody tr th {\n",
       "        vertical-align: top;\n",
       "    }\n",
       "\n",
       "    .dataframe thead th {\n",
       "        text-align: right;\n",
       "    }\n",
       "</style>\n",
       "<table border=\"1\" class=\"dataframe\">\n",
       "  <thead>\n",
       "    <tr style=\"text-align: right;\">\n",
       "      <th></th>\n",
       "      <th>gender</th>\n",
       "      <th>mh_in_interview</th>\n",
       "      <th>count_responses</th>\n",
       "    </tr>\n",
       "  </thead>\n",
       "  <tbody>\n",
       "    <tr>\n",
       "      <th>0</th>\n",
       "      <td>Female</td>\n",
       "      <td>Maybe</td>\n",
       "      <td>63</td>\n",
       "    </tr>\n",
       "    <tr>\n",
       "      <th>1</th>\n",
       "      <td>Female</td>\n",
       "      <td>No</td>\n",
       "      <td>419</td>\n",
       "    </tr>\n",
       "    <tr>\n",
       "      <th>2</th>\n",
       "      <td>Female</td>\n",
       "      <td>Yes</td>\n",
       "      <td>7</td>\n",
       "    </tr>\n",
       "    <tr>\n",
       "      <th>3</th>\n",
       "      <td>Male</td>\n",
       "      <td>Maybe</td>\n",
       "      <td>301</td>\n",
       "    </tr>\n",
       "    <tr>\n",
       "      <th>4</th>\n",
       "      <td>Male</td>\n",
       "      <td>No</td>\n",
       "      <td>937</td>\n",
       "    </tr>\n",
       "    <tr>\n",
       "      <th>5</th>\n",
       "      <td>Male</td>\n",
       "      <td>Yes</td>\n",
       "      <td>73</td>\n",
       "    </tr>\n",
       "  </tbody>\n",
       "</table>\n",
       "</div>"
      ],
      "text/plain": [
       "   gender mh_in_interview  count_responses\n",
       "0  Female           Maybe               63\n",
       "1  Female              No              419\n",
       "2  Female             Yes                7\n",
       "3    Male           Maybe              301\n",
       "4    Male              No              937\n",
       "5    Male             Yes               73"
      ]
     },
     "execution_count": 35,
     "metadata": {},
     "output_type": "execute_result"
    }
   ],
   "source": [
    "df = pd.read_csv('chloe-imp.csv')\n",
    "df"
   ]
  },
  {
   "cell_type": "markdown",
   "id": "7945bfec-6ab3-445f-9ede-5691d0a10111",
   "metadata": {},
   "source": [
    "### Creating visualization\n",
    "\n",
    "I will use Altair, a library in Python used for visualization to construct the view to answer our question. As I will be comparing proportions, I will make a bar chart."
   ]
  },
  {
   "cell_type": "code",
   "execution_count": 44,
   "id": "9a05b2cc-845e-4f6b-8d5c-3a3a5b4e9809",
   "metadata": {},
   "outputs": [
    {
     "data": {
      "text/html": [
       "\n",
       "<style>\n",
       "  #altair-viz-6520c151d6ef414ebf2ab3e6e61298ce.vega-embed {\n",
       "    width: 100%;\n",
       "    display: flex;\n",
       "  }\n",
       "\n",
       "  #altair-viz-6520c151d6ef414ebf2ab3e6e61298ce.vega-embed details,\n",
       "  #altair-viz-6520c151d6ef414ebf2ab3e6e61298ce.vega-embed details summary {\n",
       "    position: relative;\n",
       "  }\n",
       "</style>\n",
       "<div id=\"altair-viz-6520c151d6ef414ebf2ab3e6e61298ce\"></div>\n",
       "<script type=\"text/javascript\">\n",
       "  var VEGA_DEBUG = (typeof VEGA_DEBUG == \"undefined\") ? {} : VEGA_DEBUG;\n",
       "  (function(spec, embedOpt){\n",
       "    let outputDiv = document.currentScript.previousElementSibling;\n",
       "    if (outputDiv.id !== \"altair-viz-6520c151d6ef414ebf2ab3e6e61298ce\") {\n",
       "      outputDiv = document.getElementById(\"altair-viz-6520c151d6ef414ebf2ab3e6e61298ce\");\n",
       "    }\n",
       "\n",
       "    const paths = {\n",
       "      \"vega\": \"https://cdn.jsdelivr.net/npm/vega@5?noext\",\n",
       "      \"vega-lib\": \"https://cdn.jsdelivr.net/npm/vega-lib?noext\",\n",
       "      \"vega-lite\": \"https://cdn.jsdelivr.net/npm/vega-lite@5.20.1?noext\",\n",
       "      \"vega-embed\": \"https://cdn.jsdelivr.net/npm/vega-embed@6?noext\",\n",
       "    };\n",
       "\n",
       "    function maybeLoadScript(lib, version) {\n",
       "      var key = `${lib.replace(\"-\", \"\")}_version`;\n",
       "      return (VEGA_DEBUG[key] == version) ?\n",
       "        Promise.resolve(paths[lib]) :\n",
       "        new Promise(function(resolve, reject) {\n",
       "          var s = document.createElement('script');\n",
       "          document.getElementsByTagName(\"head\")[0].appendChild(s);\n",
       "          s.async = true;\n",
       "          s.onload = () => {\n",
       "            VEGA_DEBUG[key] = version;\n",
       "            return resolve(paths[lib]);\n",
       "          };\n",
       "          s.onerror = () => reject(`Error loading script: ${paths[lib]}`);\n",
       "          s.src = paths[lib];\n",
       "        });\n",
       "    }\n",
       "\n",
       "    function showError(err) {\n",
       "      outputDiv.innerHTML = `<div class=\"error\" style=\"color:red;\">${err}</div>`;\n",
       "      throw err;\n",
       "    }\n",
       "\n",
       "    function displayChart(vegaEmbed) {\n",
       "      vegaEmbed(outputDiv, spec, embedOpt)\n",
       "        .catch(err => showError(`Javascript Error: ${err.message}<br>This usually means there's a typo in your chart specification. See the javascript console for the full traceback.`));\n",
       "    }\n",
       "\n",
       "    if(typeof define === \"function\" && define.amd) {\n",
       "      requirejs.config({paths});\n",
       "      let deps = [\"vega-embed\"];\n",
       "      require(deps, displayChart, err => showError(`Error loading script: ${err.message}`));\n",
       "    } else {\n",
       "      maybeLoadScript(\"vega\", \"5\")\n",
       "        .then(() => maybeLoadScript(\"vega-lite\", \"5.20.1\"))\n",
       "        .then(() => maybeLoadScript(\"vega-embed\", \"6\"))\n",
       "        .catch(showError)\n",
       "        .then(() => displayChart(vegaEmbed));\n",
       "    }\n",
       "  })({\"config\": {\"view\": {\"continuousWidth\": 300, \"continuousHeight\": 300}}, \"data\": {\"name\": \"data-c99cee18ea50a7cda199e40095c7bf8a\"}, \"mark\": {\"type\": \"bar\"}, \"encoding\": {\"color\": {\"field\": \"mh_in_interview\", \"legend\": {\"title\": [\"Would they disclose their\", \"mental health condition\", \"to a potential employer?\"]}, \"type\": \"ordinal\"}, \"x\": {\"field\": \"count_responses\", \"sort\": [\"Yes\", \"Maybe\", \"No\"], \"stack\": \"normalize\", \"title\": \"Proportion of responses\", \"type\": \"quantitative\"}, \"y\": {\"field\": \"gender\", \"title\": \"Gender of respondent\", \"type\": \"nominal\"}}, \"height\": 300, \"title\": {\"text\": \"How do men and women in the tech industry describe whether they would disclose their mental health to a potential employer?\", \"subtitle\": \"Mental health condition disclosure in an interview against gender for tech employees between 2014-2019\"}, \"width\": 500, \"$schema\": \"https://vega.github.io/schema/vega-lite/v5.20.1.json\", \"datasets\": {\"data-c99cee18ea50a7cda199e40095c7bf8a\": [{\"gender\": \"Female\", \"mh_in_interview\": \"Maybe\", \"count_responses\": 63}, {\"gender\": \"Female\", \"mh_in_interview\": \"No\", \"count_responses\": 419}, {\"gender\": \"Female\", \"mh_in_interview\": \"Yes\", \"count_responses\": 7}, {\"gender\": \"Male\", \"mh_in_interview\": \"Maybe\", \"count_responses\": 301}, {\"gender\": \"Male\", \"mh_in_interview\": \"No\", \"count_responses\": 937}, {\"gender\": \"Male\", \"mh_in_interview\": \"Yes\", \"count_responses\": 73}]}}, {\"mode\": \"vega-lite\"});\n",
       "</script>"
      ],
      "text/plain": [
       "alt.Chart(...)"
      ]
     },
     "execution_count": 44,
     "metadata": {},
     "output_type": "execute_result"
    }
   ],
   "source": [
    "mh_order = ['Yes', 'Maybe', 'No']\n",
    "\n",
    "chart = alt.Chart(df, title=alt.Title('How do men and women in the tech industry describe whether they would disclose their mental health to a potential employer?', subtitle='Mental health condition disclosure in an interview against gender for tech employees between 2014-2019')\n",
    "                 ).mark_bar().encode(\n",
    "    y=alt.Y('gender:N').title('Gender of respondent'),\n",
    "    x=alt.X('count_responses', sort=mh_order).stack('normalize').title('Proportion of responses'),\n",
    "    color=alt.Color('mh_in_interview:O').legend(title=['Would they disclose their', 'mental health condition', 'to a potential employer?']))\n",
    "chart.properties(width=500,\n",
    "                height=300)"
   ]
  },
  {
   "cell_type": "code",
   "execution_count": null,
   "id": "d687fdff-087c-44f2-9ffa-f79bca95646b",
   "metadata": {},
   "outputs": [],
   "source": []
  }
 ],
 "metadata": {
  "kernelspec": {
   "display_name": "Python 3 (ipykernel)",
   "language": "python",
   "name": "python3"
  },
  "language_info": {
   "codemirror_mode": {
    "name": "ipython",
    "version": 3
   },
   "file_extension": ".py",
   "mimetype": "text/x-python",
   "name": "python",
   "nbconvert_exporter": "python",
   "pygments_lexer": "ipython3",
   "version": "3.11.5"
  }
 },
 "nbformat": 4,
 "nbformat_minor": 5
}
