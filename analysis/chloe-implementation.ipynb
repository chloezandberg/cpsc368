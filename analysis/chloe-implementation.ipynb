{
 "cells": [
  {
   "cell_type": "markdown",
   "id": "03b1e2fe-f906-4689-93a7-4064f356d1e7",
   "metadata": {},
   "source": [
    "# CPSC 368 - Databases in Data Science\n",
    "### Mental Health Quality Discrepancies Between Men and Women in Tech\n",
    "By Chloe Zandberg and Olivia Lam"
   ]
  },
  {
   "cell_type": "markdown",
   "id": "5ed2c541-1f67-4f79-86b6-4238cd4ba14f",
   "metadata": {},
   "source": [
    "### How do different genders in the tech industry describe whether they would disclose their mental health to a potential employer?"
   ]
  },
  {
   "cell_type": "markdown",
   "id": "954f3915-804f-4ff1-b3e3-89503b31388c",
   "metadata": {},
   "source": [
    "This question seeks to uncover any disproportionate comfort—or lack thereof—in mental health complication disclosure between employees of female and male gender identifications in the technology industry. Regardless of whether a discrepancy is found, this question aims to prod at a possible stigma around mental health, particularly in the technology industry, where aptitude and technical skills are highly valued and mental health complications can be seen as a barrier to these qualities. "
   ]
  },
  {
   "cell_type": "code",
   "execution_count": 3,
   "id": "32cce0ef-cd4f-4700-a78b-72b5abb1a64d",
   "metadata": {},
   "outputs": [
    {
     "name": "stdout",
     "output_type": "stream",
     "text": [
      "CSV file has been saved to your local directory.\n"
     ]
    }
   ],
   "source": [
    "# First we must connect our database to our query to pull our desired data\n",
    "connection = sqlite3.connect('database/my_database.db')\n",
    "\n",
    "q2_query = \"\"\"\n",
    "SELECT u.gender, m.sought_treatment\n",
    "FROM Users u\n",
    "JOIN Mental_health m ON u.userID = m.userID;\n",
    "\"\"\"\n",
    "\n",
    "# Store it as a dataframe so we can save as a csv\n",
    "oli_df = pd.read_sql_query(q2_query, connection)\n",
    "oli_df.to_csv('chloe-imp.csv', index=False)\n",
    "\n",
    "# Close the connection\n",
    "connection.close()\n",
    "\n",
    "print(\"CSV file has been saved to your local directory.\")"
   ]
  },
  {
   "cell_type": "code",
   "execution_count": null,
   "id": "48a7dded-0ebd-4561-9c4f-53c8d3965066",
   "metadata": {},
   "outputs": [],
   "source": []
  }
 ],
 "metadata": {
  "kernelspec": {
   "display_name": "Python 3 (ipykernel)",
   "language": "python",
   "name": "python3"
  },
  "language_info": {
   "codemirror_mode": {
    "name": "ipython",
    "version": 3
   },
   "file_extension": ".py",
   "mimetype": "text/x-python",
   "name": "python",
   "nbconvert_exporter": "python",
   "pygments_lexer": "ipython3",
   "version": "3.11.8"
  }
 },
 "nbformat": 4,
 "nbformat_minor": 5
}
