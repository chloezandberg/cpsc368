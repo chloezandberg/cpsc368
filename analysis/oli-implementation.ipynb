{
 "cells": [
  {
   "cell_type": "markdown",
   "id": "03b1e2fe-f906-4689-93a7-4064f356d1e7",
   "metadata": {},
   "source": [
    "# CPSC 368 - Databases in Data Science\n",
    "### Mental Health Quality Discrepancies Between Men and Women in Tech\n",
    "By Chloe Zandberg and Olivia Lam"
   ]
  },
  {
   "cell_type": "markdown",
   "id": "5ed2c541-1f67-4f79-86b6-4238cd4ba14f",
   "metadata": {},
   "source": [
    "### What proportion of women and men in the tech industry have sought treatment from a mental health professional? How does this compare to the proportion of workplaces in tech that offer mental health benefits?"
   ]
  },
  {
   "cell_type": "markdown",
   "id": "954f3915-804f-4ff1-b3e3-89503b31388c",
   "metadata": {},
   "source": [
    "This question seeks to describe the availability of mental health resources to employees in technology, as well as answer whether or not employees feel comfortable accessing resources, if any, provided by their employers to aid in mental health consultation and treatment. Oftentimes, regardless of the availability of a resource, if a stigma surrounds it, those with access to it tend not to use it. Our study aims to reveal if this is the case according to the data we have acquired."
   ]
  },
  {
   "cell_type": "code",
   "execution_count": 10,
   "id": "a3f9f964-78fc-4443-a38b-0a02b602110d",
   "metadata": {},
   "outputs": [
    {
     "name": "stdout",
     "output_type": "stream",
     "text": [
      "CSV file has been saved to your local directory.\n"
     ]
    }
   ],
   "source": [
    "import sqlite3\n",
    "import pandas as pd\n",
    "\n",
    "# First we must connect our database to our query to pull our desired data\n",
    "connection = sqlite3.connect('database/my_database.db')\n",
    "\n",
    "q2_query = \"\"\"\n",
    "SELECT u.gender, m.sought_treatment, e.employer_benefits \n",
    "FROM Users u\n",
    "JOIN Mental_health m ON u.userID = m.userID\n",
    "JOIN employment e ON u.userID = e.userID;\n",
    "\"\"\"\n",
    "\n",
    "# Store it as a dataframe so we can save as a csv\n",
    "oli_df = pd.read_sql_query(q2_query, connection)\n",
    "oli_df.to_csv('oli-imp.csv', index=False)\n",
    "\n",
    "# Close the connection\n",
    "connection.close()\n",
    "\n",
    "print(\"CSV file has been saved to your local directory.\")\n"
   ]
  },
  {
   "cell_type": "code",
   "execution_count": 7,
   "id": "7d101c23-c244-44dd-98f3-d346e7711a3b",
   "metadata": {},
   "outputs": [
    {
     "data": {
      "text/html": [
       "<div>\n",
       "<style scoped>\n",
       "    .dataframe tbody tr th:only-of-type {\n",
       "        vertical-align: middle;\n",
       "    }\n",
       "\n",
       "    .dataframe tbody tr th {\n",
       "        vertical-align: top;\n",
       "    }\n",
       "\n",
       "    .dataframe thead th {\n",
       "        text-align: right;\n",
       "    }\n",
       "</style>\n",
       "<table border=\"1\" class=\"dataframe\">\n",
       "  <thead>\n",
       "    <tr style=\"text-align: right;\">\n",
       "      <th></th>\n",
       "      <th>gender</th>\n",
       "      <th>sought_treatment</th>\n",
       "      <th>employer_benefits</th>\n",
       "    </tr>\n",
       "  </thead>\n",
       "  <tbody>\n",
       "  </tbody>\n",
       "</table>\n",
       "</div>"
      ],
      "text/plain": [
       "Empty DataFrame\n",
       "Columns: [gender, sought_treatment, employer_benefits]\n",
       "Index: []"
      ]
     },
     "execution_count": 7,
     "metadata": {},
     "output_type": "execute_result"
    }
   ],
   "source": [
    "pd.read_csv(\"oli-imp.csv\")"
   ]
  },
  {
   "cell_type": "code",
   "execution_count": null,
   "id": "1d9c20d3-f63d-485f-a463-5a3696f4a161",
   "metadata": {},
   "outputs": [],
   "source": []
  }
 ],
 "metadata": {
  "kernelspec": {
   "display_name": "Python 3 (ipykernel)",
   "language": "python",
   "name": "python3"
  },
  "language_info": {
   "codemirror_mode": {
    "name": "ipython",
    "version": 3
   },
   "file_extension": ".py",
   "mimetype": "text/x-python",
   "name": "python",
   "nbconvert_exporter": "python",
   "pygments_lexer": "ipython3",
   "version": "3.11.8"
  }
 },
 "nbformat": 4,
 "nbformat_minor": 5
}
