{
 "cells": [
  {
   "cell_type": "markdown",
   "id": "03b1e2fe-f906-4689-93a7-4064f356d1e7",
   "metadata": {},
   "source": [
    "# CPSC 368 - Databases in Data Science\n",
    "### Mental Health Quality Discrepancies Between Men and Women in Tech\n",
    "By Chloe Zandberg and Olivia Lam"
   ]
  },
  {
   "cell_type": "markdown",
   "id": "5ed2c541-1f67-4f79-86b6-4238cd4ba14f",
   "metadata": {},
   "source": [
    "### How do different genders in the tech industry describe whether they would disclose their mental health to a potential employer?"
   ]
  },
  {
   "cell_type": "markdown",
   "id": "954f3915-804f-4ff1-b3e3-89503b31388c",
   "metadata": {},
   "source": [
    "This question seeks to uncover any disproportionate comfort—or lack thereof—in mental health complication disclosure between employees of female and male gender identifications in the technology industry. Regardless of whether a discrepancy is found, this question aims to prod at a possible stigma around mental health, particularly in the technology industry, where aptitude and technical skills are highly valued and mental health complications can be seen as a barrier to these qualities. "
   ]
  },
  {
   "cell_type": "code",
   "execution_count": null,
   "id": "a3f9f964-78fc-4443-a38b-0a02b602110d",
   "metadata": {},
   "outputs": [],
   "source": []
  }
 ],
 "metadata": {
  "kernelspec": {
   "display_name": "Python 3 (ipykernel)",
   "language": "python",
   "name": "python3"
  },
  "language_info": {
   "codemirror_mode": {
    "name": "ipython",
    "version": 3
   },
   "file_extension": ".py",
   "mimetype": "text/x-python",
   "name": "python",
   "nbconvert_exporter": "python",
   "pygments_lexer": "ipython3",
   "version": "3.11.5"
  }
 },
 "nbformat": 4,
 "nbformat_minor": 5
}
