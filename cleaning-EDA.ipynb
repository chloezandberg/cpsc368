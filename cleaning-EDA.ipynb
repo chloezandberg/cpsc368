{
 "cells": [
  {
   "cell_type": "markdown",
   "id": "84f30549-0750-4173-a735-c24aa76148b7",
   "metadata": {},
   "source": [
    "## CPSC 368 - Databases in Data Science\n",
    "### Mental Health Quality Discrepancies Between Men and Women in Tech\n",
    "By Chloe Zandberg and Olivia Lam"
   ]
  },
  {
   "cell_type": "code",
   "execution_count": 6,
   "id": "9d800e1b-eed4-4d08-b129-75c9ba68265d",
   "metadata": {},
   "outputs": [
    {
     "name": "stdout",
     "output_type": "stream",
     "text": [
      "Database file exists!\n"
     ]
    }
   ],
   "source": [
    "import os\n",
    "\n",
    "dataset_path = \"mental_health.sqlite\"  # Update this if needed\n",
    "\n",
    "if os.path.exists(dataset_path):\n",
    "    print(\"Database file exists!\")\n",
    "else:\n",
    "    print(\"Database file NOT found!\")"
   ]
  },
  {
   "cell_type": "code",
   "execution_count": 7,
   "id": "9f2725ce-a669-41a7-b448-f699a1cf1834",
   "metadata": {},
   "outputs": [],
   "source": [
    "import pandas as pd \n",
    "import numpy as np\n",
    "import sqlite3 as sql\n",
    "\n",
    "\n",
    "#Insert path here\n",
    "path = \"/kaggle/input/\"  \n",
    "dataset = path + 'mental-health-in-the-tech-industry/mental_health.sqlite'\n",
    "\n",
    "dataset = \"/kaggle/input/mental-health-in-the-tech-industry/mental_health.sqlite\"\n",
    "\n",
    "# connect to SQL database\n",
    "con = sql.connect(\"mental_health.sqlite\") # create connection object to database"
   ]
  },
  {
   "cell_type": "code",
   "execution_count": null,
   "id": "439a456c-9a40-4a15-b355-6f3eb5f53a2b",
   "metadata": {},
   "outputs": [],
   "source": []
  }
 ],
 "metadata": {
  "kernelspec": {
   "display_name": "Python 3 (ipykernel)",
   "language": "python",
   "name": "python3"
  },
  "language_info": {
   "codemirror_mode": {
    "name": "ipython",
    "version": 3
   },
   "file_extension": ".py",
   "mimetype": "text/x-python",
   "name": "python",
   "nbconvert_exporter": "python",
   "pygments_lexer": "ipython3",
   "version": "3.11.5"
  }
 },
 "nbformat": 4,
 "nbformat_minor": 5
}
